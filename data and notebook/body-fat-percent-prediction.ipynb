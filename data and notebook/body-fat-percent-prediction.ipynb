{
 "cells": [
  {
   "cell_type": "markdown",
   "metadata": {},
   "source": [
    "### Body Fat Prediction"
   ]
  },
  {
   "cell_type": "code",
   "execution_count": 128,
   "metadata": {
    "execution": {
     "iopub.execute_input": "2022-05-07T03:45:54.020594Z",
     "iopub.status.busy": "2022-05-07T03:45:54.020237Z",
     "iopub.status.idle": "2022-05-07T03:45:54.027739Z",
     "shell.execute_reply": "2022-05-07T03:45:54.027010Z",
     "shell.execute_reply.started": "2022-05-07T03:45:54.020557Z"
    }
   },
   "outputs": [],
   "source": [
    "import numpy as np\n",
    "import pandas as pd\n",
    "import matplotlib.pyplot as plt\n",
    "%matplotlib inline\n",
    "import seaborn as sns"
   ]
  },
  {
   "cell_type": "markdown",
   "metadata": {},
   "source": [
    "### Importing Data"
   ]
  },
  {
   "cell_type": "code",
   "execution_count": 129,
   "metadata": {
    "execution": {
     "iopub.execute_input": "2022-05-07T03:45:54.135178Z",
     "iopub.status.busy": "2022-05-07T03:45:54.134692Z",
     "iopub.status.idle": "2022-05-07T03:45:54.173505Z",
     "shell.execute_reply": "2022-05-07T03:45:54.172430Z",
     "shell.execute_reply.started": "2022-05-07T03:45:54.135134Z"
    }
   },
   "outputs": [],
   "source": [
    "bodyfat = pd.read_csv(\"C://Users//Ambarish Deb//bodyfatwebapp//data and notebook//bodyfat.csv\")\n",
    "bodyfat.head()"
   ]
  },
  {
   "cell_type": "code",
   "execution_count": 130,
   "metadata": {
    "execution": {
     "iopub.execute_input": "2022-05-07T03:45:54.179673Z",
     "iopub.status.busy": "2022-05-07T03:45:54.179326Z",
     "iopub.status.idle": "2022-05-07T03:45:54.188422Z",
     "shell.execute_reply": "2022-05-07T03:45:54.187201Z",
     "shell.execute_reply.started": "2022-05-07T03:45:54.179632Z"
    }
   },
   "outputs": [],
   "source": [
    "bodyfat.dtypes"
   ]
  },
  {
   "cell_type": "markdown",
   "metadata": {},
   "source": [
    "### Data Cleaning"
   ]
  },
  {
   "cell_type": "code",
   "execution_count": 131,
   "metadata": {
    "execution": {
     "iopub.execute_input": "2022-05-07T03:45:54.239229Z",
     "iopub.status.busy": "2022-05-07T03:45:54.238908Z",
     "iopub.status.idle": "2022-05-07T03:45:54.250931Z",
     "shell.execute_reply": "2022-05-07T03:45:54.249049Z",
     "shell.execute_reply.started": "2022-05-07T03:45:54.239190Z"
    }
   },
   "outputs": [],
   "source": [
    "bodyfat.isnull().sum()"
   ]
  },
  {
   "cell_type": "code",
   "execution_count": 132,
   "metadata": {
    "execution": {
     "iopub.execute_input": "2022-05-07T03:45:54.292438Z",
     "iopub.status.busy": "2022-05-07T03:45:54.292071Z",
     "iopub.status.idle": "2022-05-07T03:45:54.298691Z",
     "shell.execute_reply": "2022-05-07T03:45:54.297192Z",
     "shell.execute_reply.started": "2022-05-07T03:45:54.292391Z"
    }
   },
   "outputs": [],
   "source": [
    "import random\n",
    "from scipy.stats import norm, skew"
   ]
  },
  {
   "cell_type": "code",
   "execution_count": 133,
   "metadata": {
    "execution": {
     "iopub.execute_input": "2022-05-07T03:45:54.348146Z",
     "iopub.status.busy": "2022-05-07T03:45:54.347788Z",
     "iopub.status.idle": "2022-05-07T03:45:54.354436Z",
     "shell.execute_reply": "2022-05-07T03:45:54.352967Z",
     "shell.execute_reply.started": "2022-05-07T03:45:54.348104Z"
    }
   },
   "outputs": [],
   "source": [
    "def randomcolor():\n",
    "    r = random.random()\n",
    "    b = random.random()\n",
    "    g = random.random()\n",
    "    rgb = [r,g,b]\n",
    "    return rgb"
   ]
  },
  {
   "cell_type": "code",
   "execution_count": 134,
   "metadata": {
    "execution": {
     "iopub.execute_input": "2022-05-07T03:45:54.401317Z",
     "iopub.status.busy": "2022-05-07T03:45:54.400469Z",
     "iopub.status.idle": "2022-05-07T03:45:56.420488Z",
     "shell.execute_reply": "2022-05-07T03:45:56.419245Z",
     "shell.execute_reply.started": "2022-05-07T03:45:54.401256Z"
    }
   },
   "outputs": [],
   "source": [
    "X = bodyfat.drop('BodyFat',axis = 1)\n",
    "for x in X.columns:\n",
    "    sns.boxplot(bodyfat[x],color = randomcolor())\n",
    "    plt.title(\"Spread of \"+x + \" variable\")\n",
    "    plt.show()"
   ]
  },
  {
   "cell_type": "markdown",
   "metadata": {},
   "source": [
    "The columns have a few outlying points at most. So we don't need to treat them for outliers as such."
   ]
  },
  {
   "cell_type": "code",
   "execution_count": 135,
   "metadata": {
    "execution": {
     "iopub.execute_input": "2022-05-07T03:45:56.422996Z",
     "iopub.status.busy": "2022-05-07T03:45:56.422472Z",
     "iopub.status.idle": "2022-05-07T03:46:00.833930Z",
     "shell.execute_reply": "2022-05-07T03:46:00.832789Z",
     "shell.execute_reply.started": "2022-05-07T03:45:56.422955Z"
    }
   },
   "outputs": [],
   "source": [
    "for x in X.columns:\n",
    "    skewness = skew(bodyfat[x])\n",
    "    sns.distplot(bodyfat[x], fit = norm, color = randomcolor())\n",
    "    plt.title(\"Skewness of variable \"+ x+\" : \"+str(skewness))\n",
    "    plt.show()"
   ]
  },
  {
   "cell_type": "markdown",
   "metadata": {},
   "source": [
    "Compared to other columns, height and ankle are more skewed compared to others. Fixing them by transforming them"
   ]
  },
  {
   "cell_type": "code",
   "execution_count": 136,
   "metadata": {
    "execution": {
     "iopub.execute_input": "2022-05-07T03:46:00.835448Z",
     "iopub.status.busy": "2022-05-07T03:46:00.835177Z",
     "iopub.status.idle": "2022-05-07T03:46:00.840607Z",
     "shell.execute_reply": "2022-05-07T03:46:00.839191Z",
     "shell.execute_reply.started": "2022-05-07T03:46:00.835414Z"
    }
   },
   "outputs": [],
   "source": [
    "#from scipy.stats import boxcox"
   ]
  },
  {
   "cell_type": "code",
   "execution_count": 137,
   "metadata": {
    "execution": {
     "iopub.execute_input": "2022-05-07T03:46:00.844473Z",
     "iopub.status.busy": "2022-05-07T03:46:00.843928Z",
     "iopub.status.idle": "2022-05-07T03:46:00.854959Z",
     "shell.execute_reply": "2022-05-07T03:46:00.853895Z",
     "shell.execute_reply.started": "2022-05-07T03:46:00.844428Z"
    }
   },
   "outputs": [],
   "source": [
    "bodyfat[\"Height_normal\"] = np.square(bodyfat[\"Height\"])\n",
    "bodyfat[\"Ankle_normal\"] = np.log(bodyfat[\"Ankle\"])"
   ]
  },
  {
   "cell_type": "code",
   "execution_count": 138,
   "metadata": {
    "execution": {
     "iopub.execute_input": "2022-05-07T03:46:00.856997Z",
     "iopub.status.busy": "2022-05-07T03:46:00.856715Z",
     "iopub.status.idle": "2022-05-07T03:46:01.313566Z",
     "shell.execute_reply": "2022-05-07T03:46:01.312540Z",
     "shell.execute_reply.started": "2022-05-07T03:46:00.856961Z"
    }
   },
   "outputs": [],
   "source": [
    "for x in [\"Height_normal\",\"Ankle_normal\"]:\n",
    "    skewness = skew(bodyfat[x])\n",
    "    sns.distplot(bodyfat[x], fit = norm, color = randomcolor())\n",
    "    plt.title(\"Skewness of variable \"+ x+\" : \"+str(skewness))\n",
    "    plt.show()"
   ]
  },
  {
   "cell_type": "code",
   "execution_count": 139,
   "metadata": {
    "execution": {
     "iopub.execute_input": "2022-05-07T03:46:01.316395Z",
     "iopub.status.busy": "2022-05-07T03:46:01.315416Z",
     "iopub.status.idle": "2022-05-07T03:46:01.715062Z",
     "shell.execute_reply": "2022-05-07T03:46:01.713641Z",
     "shell.execute_reply.started": "2022-05-07T03:46:01.316325Z"
    }
   },
   "outputs": [],
   "source": [
    "bodyfat[\"Height_normal\"] = np.square(bodyfat[\"Height_normal\"])\n",
    "bodyfat[\"Ankle_normal\"] = np.log(bodyfat[\"Ankle_normal\"])\n",
    "for x in [\"Height_normal\",\"Ankle_normal\"]:\n",
    "    skewness = skew(bodyfat[x])\n",
    "    sns.distplot(bodyfat[x], fit = norm, color = randomcolor())\n",
    "    plt.title(\"Skewness of variable \"+ x+\" : \"+str(skewness))\n",
    "    plt.show()"
   ]
  },
  {
   "cell_type": "markdown",
   "metadata": {},
   "source": [
    "### EDA"
   ]
  },
  {
   "cell_type": "markdown",
   "metadata": {},
   "source": [
    "Checking Correlation between bodyfat and X variables"
   ]
  },
  {
   "cell_type": "code",
   "execution_count": 140,
   "metadata": {
    "execution": {
     "iopub.execute_input": "2022-05-07T03:46:01.716993Z",
     "iopub.status.busy": "2022-05-07T03:46:01.716707Z",
     "iopub.status.idle": "2022-05-07T03:46:01.723272Z",
     "shell.execute_reply": "2022-05-07T03:46:01.722287Z",
     "shell.execute_reply.started": "2022-05-07T03:46:01.716957Z"
    }
   },
   "outputs": [],
   "source": [
    "from scipy.stats import pearsonr"
   ]
  },
  {
   "cell_type": "code",
   "execution_count": 141,
   "metadata": {
    "execution": {
     "iopub.execute_input": "2022-05-07T03:46:01.725087Z",
     "iopub.status.busy": "2022-05-07T03:46:01.724796Z",
     "iopub.status.idle": "2022-05-07T03:46:04.414507Z",
     "shell.execute_reply": "2022-05-07T03:46:04.413390Z",
     "shell.execute_reply.started": "2022-05-07T03:46:01.725048Z"
    }
   },
   "outputs": [],
   "source": [
    "for x in X.columns:\n",
    "    corr, _ = pearsonr(bodyfat[x], bodyfat.BodyFat)\n",
    "    sns.scatterplot(x=bodyfat[x], y=bodyfat.BodyFat, color = randomcolor())\n",
    "    plt.title('Pearsons correlation: %.3f' % corr)\n",
    "    plt.show()"
   ]
  },
  {
   "cell_type": "markdown",
   "metadata": {},
   "source": [
    "Except height and density, all other variables are positively correlated with bodyfat.\n",
    "For those variables having a pearson coefficient of >=0.5 we can say that increase in them correlates to increase in bodyfat and vice versa.\n",
    "Similarly those variables having a pearson coefficient of <=-0.5 we can say that increase in them correlates to decrease in bodyfat and vice versa."
   ]
  },
  {
   "cell_type": "code",
   "execution_count": 142,
   "metadata": {
    "execution": {
     "iopub.execute_input": "2022-05-07T03:46:04.416207Z",
     "iopub.status.busy": "2022-05-07T03:46:04.415936Z",
     "iopub.status.idle": "2022-05-07T03:47:05.412033Z",
     "shell.execute_reply": "2022-05-07T03:47:05.411212Z",
     "shell.execute_reply.started": "2022-05-07T03:46:04.416169Z"
    }
   },
   "outputs": [],
   "source": [
    "sns.pairplot(bodyfat.drop(\"BodyFat\",axis = 1),diag_kind='kde')\n",
    "plt.show()"
   ]
  },
  {
   "cell_type": "code",
   "execution_count": 143,
   "metadata": {
    "execution": {
     "iopub.execute_input": "2022-05-07T03:47:05.415400Z",
     "iopub.status.busy": "2022-05-07T03:47:05.415145Z",
     "iopub.status.idle": "2022-05-07T03:47:06.688522Z",
     "shell.execute_reply": "2022-05-07T03:47:06.687286Z",
     "shell.execute_reply.started": "2022-05-07T03:47:05.415365Z"
    }
   },
   "outputs": [],
   "source": [
    "f,ax = plt.subplots(figsize=(20, 20))\n",
    "sns.heatmap(bodyfat.drop(\"BodyFat\",axis = 1).corr(), annot = True, fmt= '.2f')\n",
    "plt.show()"
   ]
  },
  {
   "cell_type": "code",
   "execution_count": 144,
   "metadata": {
    "execution": {
     "iopub.execute_input": "2022-05-07T03:47:06.690944Z",
     "iopub.status.busy": "2022-05-07T03:47:06.690083Z",
     "iopub.status.idle": "2022-05-07T03:47:06.697613Z",
     "shell.execute_reply": "2022-05-07T03:47:06.696912Z",
     "shell.execute_reply.started": "2022-05-07T03:47:06.690903Z"
    }
   },
   "outputs": [],
   "source": [
    "from statsmodels.stats.outliers_influence import variance_inflation_factor\n",
    "from statsmodels.tools.tools import add_constant\n",
    "def compute_vif(df,considered_features):\n",
    "    \n",
    "    X = df[considered_features]\n",
    "    X['intercept'] = 1\n",
    "    \n",
    "    # create dataframe to store vif values\n",
    "    vif = pd.DataFrame()\n",
    "    vif[\"Variable\"] = X.columns\n",
    "    vif[\"VIF\"] = [variance_inflation_factor(X.values, i) for i in range(X.shape[1])]\n",
    "    vif = vif[vif['Variable']!='intercept']\n",
    "    return vif"
   ]
  },
  {
   "cell_type": "code",
   "execution_count": 145,
   "metadata": {
    "execution": {
     "iopub.execute_input": "2022-05-07T03:47:06.698936Z",
     "iopub.status.busy": "2022-05-07T03:47:06.698690Z",
     "iopub.status.idle": "2022-05-07T03:47:06.736571Z",
     "shell.execute_reply": "2022-05-07T03:47:06.735126Z",
     "shell.execute_reply.started": "2022-05-07T03:47:06.698903Z"
    }
   },
   "outputs": [],
   "source": [
    "compute_vif(bodyfat,(X.columns))"
   ]
  },
  {
   "cell_type": "markdown",
   "metadata": {},
   "source": [
    "Variables with high VIF are Weight, Abdomen, Hip, Thigh.\n",
    "We'll remove them one by one until the vif of all other variables settles to below 5."
   ]
  },
  {
   "cell_type": "code",
   "execution_count": 146,
   "metadata": {
    "execution": {
     "iopub.execute_input": "2022-05-07T03:47:06.738468Z",
     "iopub.status.busy": "2022-05-07T03:47:06.738142Z",
     "iopub.status.idle": "2022-05-07T03:47:06.768971Z",
     "shell.execute_reply": "2022-05-07T03:47:06.767974Z",
     "shell.execute_reply.started": "2022-05-07T03:47:06.738425Z"
    }
   },
   "outputs": [],
   "source": [
    "considered_features = list(X.columns)\n",
    "considered_features.remove('Weight')\n",
    "compute_vif(bodyfat,considered_features)"
   ]
  },
  {
   "cell_type": "code",
   "execution_count": 147,
   "metadata": {
    "execution": {
     "iopub.execute_input": "2022-05-07T03:47:06.770693Z",
     "iopub.status.busy": "2022-05-07T03:47:06.770305Z",
     "iopub.status.idle": "2022-05-07T03:47:06.797237Z",
     "shell.execute_reply": "2022-05-07T03:47:06.796135Z",
     "shell.execute_reply.started": "2022-05-07T03:47:06.770659Z"
    }
   },
   "outputs": [],
   "source": [
    "considered_features.remove('Abdomen')\n",
    "compute_vif(bodyfat,considered_features)"
   ]
  },
  {
   "cell_type": "code",
   "execution_count": 148,
   "metadata": {
    "execution": {
     "iopub.execute_input": "2022-05-07T03:47:06.798950Z",
     "iopub.status.busy": "2022-05-07T03:47:06.798705Z",
     "iopub.status.idle": "2022-05-07T03:47:06.825832Z",
     "shell.execute_reply": "2022-05-07T03:47:06.825091Z",
     "shell.execute_reply.started": "2022-05-07T03:47:06.798918Z"
    }
   },
   "outputs": [],
   "source": [
    "considered_features.remove('Hip')\n",
    "compute_vif(bodyfat,considered_features)"
   ]
  },
  {
   "cell_type": "code",
   "execution_count": 149,
   "metadata": {
    "execution": {
     "iopub.execute_input": "2022-05-07T03:47:06.827550Z",
     "iopub.status.busy": "2022-05-07T03:47:06.826981Z",
     "iopub.status.idle": "2022-05-07T03:47:06.857727Z",
     "shell.execute_reply": "2022-05-07T03:47:06.856883Z",
     "shell.execute_reply.started": "2022-05-07T03:47:06.827516Z"
    }
   },
   "outputs": [],
   "source": [
    "considered_features.remove('Thigh')\n",
    "compute_vif(bodyfat,considered_features)"
   ]
  },
  {
   "cell_type": "markdown",
   "metadata": {},
   "source": [
    "### Data Preparation, train test split"
   ]
  },
  {
   "cell_type": "code",
   "execution_count": 150,
   "metadata": {
    "execution": {
     "iopub.execute_input": "2022-05-07T03:47:06.859460Z",
     "iopub.status.busy": "2022-05-07T03:47:06.858742Z",
     "iopub.status.idle": "2022-05-07T03:47:06.863535Z",
     "shell.execute_reply": "2022-05-07T03:47:06.862774Z",
     "shell.execute_reply.started": "2022-05-07T03:47:06.859420Z"
    }
   },
   "outputs": [],
   "source": [
    "from sklearn.model_selection import train_test_split"
   ]
  },
  {
   "cell_type": "code",
   "execution_count": 151,
   "metadata": {
    "execution": {
     "iopub.execute_input": "2022-05-07T03:47:06.864961Z",
     "iopub.status.busy": "2022-05-07T03:47:06.864585Z",
     "iopub.status.idle": "2022-05-07T03:47:06.878691Z",
     "shell.execute_reply": "2022-05-07T03:47:06.877475Z",
     "shell.execute_reply.started": "2022-05-07T03:47:06.864923Z"
    }
   },
   "outputs": [],
   "source": [
    "X = bodyfat.drop([\"BodyFat\",\"Height_normal\",\"Ankle_normal\"],axis = 1)\n",
    "X_vif_adj = bodyfat[considered_features]\n",
    "Y = bodyfat.BodyFat"
   ]
  },
  {
   "cell_type": "code",
   "execution_count": 152,
   "metadata": {
    "execution": {
     "iopub.execute_input": "2022-05-07T03:47:06.881037Z",
     "iopub.status.busy": "2022-05-07T03:47:06.880621Z",
     "iopub.status.idle": "2022-05-07T03:47:06.898687Z",
     "shell.execute_reply": "2022-05-07T03:47:06.897491Z",
     "shell.execute_reply.started": "2022-05-07T03:47:06.880999Z"
    }
   },
   "outputs": [],
   "source": [
    "X_train, X_test, Y_train, Y_test = train_test_split(X, Y, test_size=0.3, random_state=42)\n",
    "X_vif_adj_train, X_vif_adj_test, Y_vif_adj_train, Y_vif_adj_test = train_test_split(X_vif_adj, Y, test_size=0.3, random_state=42)"
   ]
  },
  {
   "cell_type": "markdown",
   "metadata": {},
   "source": [
    "### Regression Modeling"
   ]
  },
  {
   "cell_type": "code",
   "execution_count": 153,
   "metadata": {
    "execution": {
     "iopub.execute_input": "2022-05-07T03:47:06.900671Z",
     "iopub.status.busy": "2022-05-07T03:47:06.899964Z",
     "iopub.status.idle": "2022-05-07T03:47:06.912490Z",
     "shell.execute_reply": "2022-05-07T03:47:06.911135Z",
     "shell.execute_reply.started": "2022-05-07T03:47:06.900631Z"
    }
   },
   "outputs": [],
   "source": [
    "from sklearn.linear_model import LinearRegression\n",
    "from sklearn.neighbors import KNeighborsRegressor\n",
    "from sklearn.ensemble import RandomForestRegressor\n",
    "from sklearn.tree import DecisionTreeRegressor\n",
    "from sklearn.metrics import mean_squared_error, r2_score"
   ]
  },
  {
   "cell_type": "code",
   "execution_count": 154,
   "metadata": {
    "execution": {
     "iopub.execute_input": "2022-05-07T03:47:06.914166Z",
     "iopub.status.busy": "2022-05-07T03:47:06.913791Z",
     "iopub.status.idle": "2022-05-07T03:47:06.926861Z",
     "shell.execute_reply": "2022-05-07T03:47:06.925773Z",
     "shell.execute_reply.started": "2022-05-07T03:47:06.914124Z"
    }
   },
   "outputs": [],
   "source": [
    "def linear_model(model, X_train,Y_train, X_test, Y_test):\n",
    "    model.fit(X_train,Y_train)\n",
    "    Y_pred = model.predict(X_test)\n",
    "    score = model.score(X_test, Y_test)\n",
    "    rmse = mean_squared_error(Y_test, Y_pred, squared=False)\n",
    "    r2 = r2_score(Y_test, Y_pred)\n",
    "    adj_r2 = 1 - (1-r2_score(Y_test, Y_pred))*(len(Y)-1)/(len(Y)-X.shape[1]-1)\n",
    "    print(f\"RMSE = {rmse}\")\n",
    "    print(f\"R^2 Score = {r2}\")\n",
    "    print(f\"Adjusted R^2 Score = {adj_r2}\")\n",
    "    return model"
   ]
  },
  {
   "cell_type": "markdown",
   "metadata": {},
   "source": [
    "### K Neighbours Regressor"
   ]
  },
  {
   "cell_type": "code",
   "execution_count": 155,
   "metadata": {
    "execution": {
     "iopub.execute_input": "2022-05-07T03:47:06.929071Z",
     "iopub.status.busy": "2022-05-07T03:47:06.928223Z",
     "iopub.status.idle": "2022-05-07T03:47:06.953413Z",
     "shell.execute_reply": "2022-05-07T03:47:06.952446Z",
     "shell.execute_reply.started": "2022-05-07T03:47:06.929020Z"
    },
    "scrolled": true
   },
   "outputs": [],
   "source": [
    "knr1 = linear_model(KNeighborsRegressor(),X_train,Y_train, X_test, Y_test)"
   ]
  },
  {
   "cell_type": "code",
   "execution_count": 156,
   "metadata": {
    "execution": {
     "iopub.execute_input": "2022-05-07T03:47:06.955282Z",
     "iopub.status.busy": "2022-05-07T03:47:06.954934Z",
     "iopub.status.idle": "2022-05-07T03:47:06.967700Z",
     "shell.execute_reply": "2022-05-07T03:47:06.966842Z",
     "shell.execute_reply.started": "2022-05-07T03:47:06.955249Z"
    }
   },
   "outputs": [],
   "source": [
    "knr1_vif_adj = linear_model(KNeighborsRegressor(),X_vif_adj_train,Y_train, X_vif_adj_test, Y_test)"
   ]
  },
  {
   "cell_type": "markdown",
   "metadata": {},
   "source": [
    "### Linear Regression"
   ]
  },
  {
   "cell_type": "code",
   "execution_count": 157,
   "metadata": {
    "execution": {
     "iopub.execute_input": "2022-05-07T03:47:06.969343Z",
     "iopub.status.busy": "2022-05-07T03:47:06.968652Z",
     "iopub.status.idle": "2022-05-07T03:47:06.990461Z",
     "shell.execute_reply": "2022-05-07T03:47:06.989790Z",
     "shell.execute_reply.started": "2022-05-07T03:47:06.969316Z"
    }
   },
   "outputs": [],
   "source": [
    "lr1 = linear_model(LinearRegression(),X_train,Y_train, X_test, Y_test)"
   ]
  },
  {
   "cell_type": "code",
   "execution_count": 158,
   "metadata": {
    "execution": {
     "iopub.execute_input": "2022-05-07T03:47:06.992045Z",
     "iopub.status.busy": "2022-05-07T03:47:06.991676Z",
     "iopub.status.idle": "2022-05-07T03:47:07.003924Z",
     "shell.execute_reply": "2022-05-07T03:47:07.002598Z",
     "shell.execute_reply.started": "2022-05-07T03:47:06.992011Z"
    }
   },
   "outputs": [],
   "source": [
    "lr1_vif_adj = linear_model(LinearRegression(),X_vif_adj_train,Y_train, X_vif_adj_test, Y_test)"
   ]
  },
  {
   "cell_type": "markdown",
   "metadata": {},
   "source": [
    "### Decision Tree Regressor"
   ]
  },
  {
   "cell_type": "code",
   "execution_count": 159,
   "metadata": {
    "execution": {
     "iopub.execute_input": "2022-05-07T03:47:07.005297Z",
     "iopub.status.busy": "2022-05-07T03:47:07.005096Z",
     "iopub.status.idle": "2022-05-07T03:47:07.019611Z",
     "shell.execute_reply": "2022-05-07T03:47:07.018731Z",
     "shell.execute_reply.started": "2022-05-07T03:47:07.005260Z"
    }
   },
   "outputs": [],
   "source": [
    "dtr1 = linear_model(DecisionTreeRegressor(),X_train,Y_train, X_test, Y_test)"
   ]
  },
  {
   "cell_type": "code",
   "execution_count": 160,
   "metadata": {
    "execution": {
     "iopub.execute_input": "2022-05-07T03:47:07.021095Z",
     "iopub.status.busy": "2022-05-07T03:47:07.020901Z",
     "iopub.status.idle": "2022-05-07T03:47:07.034988Z",
     "shell.execute_reply": "2022-05-07T03:47:07.034438Z",
     "shell.execute_reply.started": "2022-05-07T03:47:07.021070Z"
    }
   },
   "outputs": [],
   "source": [
    "dtr1_vif_adj = linear_model(DecisionTreeRegressor(),X_vif_adj_train,Y_train, X_vif_adj_test, Y_test)"
   ]
  },
  {
   "cell_type": "markdown",
   "metadata": {},
   "source": [
    "### Random Forest Regressor"
   ]
  },
  {
   "cell_type": "code",
   "execution_count": 161,
   "metadata": {
    "execution": {
     "iopub.execute_input": "2022-05-07T03:47:07.038271Z",
     "iopub.status.busy": "2022-05-07T03:47:07.037894Z",
     "iopub.status.idle": "2022-05-07T03:47:07.214539Z",
     "shell.execute_reply": "2022-05-07T03:47:07.213688Z",
     "shell.execute_reply.started": "2022-05-07T03:47:07.038242Z"
    }
   },
   "outputs": [],
   "source": [
    "rfr1 = linear_model(RandomForestRegressor(),X_train,Y_train, X_test, Y_test)"
   ]
  },
  {
   "cell_type": "code",
   "execution_count": 162,
   "metadata": {
    "execution": {
     "iopub.execute_input": "2022-05-07T03:47:07.215909Z",
     "iopub.status.busy": "2022-05-07T03:47:07.215706Z",
     "iopub.status.idle": "2022-05-07T03:47:07.464996Z",
     "shell.execute_reply": "2022-05-07T03:47:07.463710Z",
     "shell.execute_reply.started": "2022-05-07T03:47:07.215883Z"
    }
   },
   "outputs": [],
   "source": [
    "rfr1_vif_adj = linear_model(RandomForestRegressor(),X_vif_adj_train,Y_train, X_vif_adj_test, Y_test)"
   ]
  },
  {
   "cell_type": "markdown",
   "metadata": {},
   "source": [
    "#### Hyperparameter Tuning"
   ]
  },
  {
   "cell_type": "code",
   "execution_count": 163,
   "metadata": {
    "execution": {
     "iopub.execute_input": "2022-05-07T03:47:07.468451Z",
     "iopub.status.busy": "2022-05-07T03:47:07.467556Z",
     "iopub.status.idle": "2022-05-07T03:47:07.472697Z",
     "shell.execute_reply": "2022-05-07T03:47:07.472103Z",
     "shell.execute_reply.started": "2022-05-07T03:47:07.468395Z"
    }
   },
   "outputs": [],
   "source": [
    "from sklearn.experimental import enable_halving_search_cv\n",
    "from sklearn.model_selection import HalvingRandomSearchCV,RandomizedSearchCV"
   ]
  },
  {
   "cell_type": "code",
   "execution_count": 164,
   "metadata": {
    "execution": {
     "iopub.execute_input": "2022-05-07T03:47:07.474448Z",
     "iopub.status.busy": "2022-05-07T03:47:07.473899Z",
     "iopub.status.idle": "2022-05-07T03:47:07.491872Z",
     "shell.execute_reply": "2022-05-07T03:47:07.491071Z",
     "shell.execute_reply.started": "2022-05-07T03:47:07.474409Z"
    }
   },
   "outputs": [],
   "source": [
    "rfr = RandomForestRegressor()\n",
    "# Number of trees in random forest\n",
    "n_estimators = [int(x) for x in np.linspace(start = 200, stop = 2000, num = 10)]\n",
    "# Number of features to consider at every split\n",
    "max_features = ['auto', 'sqrt']\n",
    "# Maximum number of levels in tree\n",
    "max_depth = [int(x) for x in np.linspace(10, 110, num = 11)]\n",
    "max_depth.append(None)\n",
    "# Minimum number of samples required to split a node\n",
    "min_samples_split = [2, 5, 10]\n",
    "# Minimum number of samples required at each leaf node\n",
    "min_samples_leaf = [1, 2, 4]\n",
    "# Method of selecting samples for training each tree\n",
    "bootstrap = [True, False]\n",
    "\n",
    "random_grid = {'n_estimators': n_estimators,\n",
    "               'max_features': max_features,\n",
    "               'max_depth': max_depth,\n",
    "               'min_samples_split': min_samples_split,\n",
    "               'min_samples_leaf': min_samples_leaf,\n",
    "               'bootstrap': bootstrap}"
   ]
  },
  {
   "cell_type": "code",
   "execution_count": 165,
   "metadata": {
    "execution": {
     "iopub.execute_input": "2022-05-07T03:47:07.493912Z",
     "iopub.status.busy": "2022-05-07T03:47:07.493004Z",
     "iopub.status.idle": "2022-05-07T03:49:49.700901Z",
     "shell.execute_reply": "2022-05-07T03:49:49.699668Z",
     "shell.execute_reply.started": "2022-05-07T03:47:07.493878Z"
    }
   },
   "outputs": [],
   "source": [
    "rscv = RandomizedSearchCV(estimator = rfr1_vif_adj, param_distributions = random_grid, n_iter = 100, cv = 3, verbose=2, random_state=42, n_jobs = -1)\n",
    "rscv.fit(X_vif_adj_train,Y_train)\n",
    "rscv.best_params_"
   ]
  },
  {
   "cell_type": "code",
   "execution_count": 166,
   "metadata": {
    "execution": {
     "iopub.execute_input": "2022-05-07T03:49:49.702900Z",
     "iopub.status.busy": "2022-05-07T03:49:49.702581Z",
     "iopub.status.idle": "2022-05-07T03:51:01.183447Z",
     "shell.execute_reply": "2022-05-07T03:51:01.182424Z",
     "shell.execute_reply.started": "2022-05-07T03:49:49.702856Z"
    }
   },
   "outputs": [],
   "source": [
    "hrscv = HalvingRandomSearchCV(estimator = rfr1_vif_adj, param_distributions = random_grid, cv = 3, verbose=2, random_state=42, n_jobs = -1)\n",
    "hrscv.fit(X_vif_adj_train,Y_train)\n",
    "hrscv.best_params_"
   ]
  },
  {
   "cell_type": "code",
   "execution_count": 167,
   "metadata": {
    "execution": {
     "iopub.execute_input": "2022-05-07T03:51:01.184856Z",
     "iopub.status.busy": "2022-05-07T03:51:01.184618Z",
     "iopub.status.idle": "2022-05-07T03:51:05.069702Z",
     "shell.execute_reply": "2022-05-07T03:51:05.068912Z",
     "shell.execute_reply.started": "2022-05-07T03:51:01.184823Z"
    }
   },
   "outputs": [],
   "source": [
    "ht_rfr1_vif_adj = linear_model(RandomForestRegressor(n_estimators= 1800,min_samples_split=2,min_samples_leaf= 2,max_features='auto',max_depth= 80,bootstrap= True),X_vif_adj_train,Y_train, X_vif_adj_test, Y_test)"
   ]
  },
  {
   "cell_type": "code",
   "execution_count": 168,
   "metadata": {
    "execution": {
     "iopub.execute_input": "2022-05-07T03:51:05.071274Z",
     "iopub.status.busy": "2022-05-07T03:51:05.071037Z",
     "iopub.status.idle": "2022-05-07T03:51:09.205622Z",
     "shell.execute_reply": "2022-05-07T03:51:09.204719Z",
     "shell.execute_reply.started": "2022-05-07T03:51:05.071243Z"
    }
   },
   "outputs": [],
   "source": [
    "ht_rfr1_vif_adj_1 = linear_model(RandomForestRegressor(n_estimators= 2000,min_samples_split=2,min_samples_leaf= 2,max_features='auto',max_depth= 50,bootstrap= False),X_vif_adj_train,Y_train, X_vif_adj_test, Y_test)"
   ]
  },
  {
   "cell_type": "markdown",
   "metadata": {},
   "source": [
    "Out of all the models trained, Linear Regression with VIF adjusted features gave the best R^2 score. Hence we'll proceed with exporting that model."
   ]
  },
  {
   "cell_type": "code",
   "execution_count": 169,
   "metadata": {
    "execution": {
     "iopub.execute_input": "2022-05-07T03:51:09.207499Z",
     "iopub.status.busy": "2022-05-07T03:51:09.206913Z",
     "iopub.status.idle": "2022-05-07T03:51:09.210580Z",
     "shell.execute_reply": "2022-05-07T03:51:09.209917Z",
     "shell.execute_reply.started": "2022-05-07T03:51:09.207462Z"
    }
   },
   "outputs": [],
   "source": [
    "### Saving the model for deployment using joblib\n",
    "import joblib \n",
    "joblib.dump(lr1_vif_adj,'C://Users//Ambarish Deb//bodyfatwebapp//bodyfat_linearreg.sav')"
   ]
  },
  {
   "cell_type": "code",
   "execution_count": 170,
   "metadata": {
    "execution": {
     "iopub.execute_input": "2022-05-07T03:51:09.211841Z",
     "iopub.status.busy": "2022-05-07T03:51:09.211627Z",
     "iopub.status.idle": "2022-05-07T03:51:09.227004Z",
     "shell.execute_reply": "2022-05-07T03:51:09.225531Z",
     "shell.execute_reply.started": "2022-05-07T03:51:09.211812Z"
    }
   },
   "outputs": [],
   "source": [
    "#considered_features"
   ]
  },
  {
   "cell_type": "code",
   "execution_count": 171,
   "metadata": {
    "execution": {
     "iopub.execute_input": "2022-05-07T03:51:09.231163Z",
     "iopub.status.busy": "2022-05-07T03:51:09.230882Z",
     "iopub.status.idle": "2022-05-07T03:51:09.244963Z",
     "shell.execute_reply": "2022-05-07T03:51:09.244173Z",
     "shell.execute_reply.started": "2022-05-07T03:51:09.231133Z"
    }
   },
   "outputs": [],
   "source": [
    "#lr1_vif_adj.predict([[1.0316,65,65.75,40.8,106.4,38.1,24.0,35.9,30.5,19.1]])"
   ]
  },
  {
   "cell_type": "code",
   "execution_count": 172,
   "metadata": {
    "execution": {
     "iopub.execute_input": "2022-05-07T03:51:09.246982Z",
     "iopub.status.busy": "2022-05-07T03:51:09.246317Z",
     "iopub.status.idle": "2022-05-07T03:51:09.256971Z",
     "shell.execute_reply": "2022-05-07T03:51:09.256250Z",
     "shell.execute_reply.started": "2022-05-07T03:51:09.246943Z"
    }
   },
   "outputs": [],
   "source": [
    "#X_vif_adj_train"
   ]
  },
  {
   "cell_type": "code",
   "execution_count": 173,
   "metadata": {
    "execution": {
     "iopub.execute_input": "2022-05-07T03:51:09.258814Z",
     "iopub.status.busy": "2022-05-07T03:51:09.258402Z",
     "iopub.status.idle": "2022-05-07T03:51:09.272083Z",
     "shell.execute_reply": "2022-05-07T03:51:09.271187Z",
     "shell.execute_reply.started": "2022-05-07T03:51:09.258771Z"
    }
   },
   "outputs": [],
   "source": [
    "#Y_train"
   ]
  },
  {
   "cell_type": "code",
   "execution_count": null,
   "metadata": {},
   "outputs": [],
   "source": []
  }
 ],
 "metadata": {
  "kernelspec": {
   "display_name": "Python 3",
   "language": "python",
   "name": "python3"
  },
  "language_info": {
   "codemirror_mode": {
    "name": "ipython",
    "version": 3
   },
   "file_extension": ".py",
   "mimetype": "text/x-python",
   "name": "python",
   "nbconvert_exporter": "python",
   "pygments_lexer": "ipython3",
   "version": "3.8.3"
  }
 },
 "nbformat": 4,
 "nbformat_minor": 4
}
